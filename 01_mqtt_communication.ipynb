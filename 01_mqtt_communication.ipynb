{
 "cells": [
  {
   "cell_type": "code",
   "execution_count": null,
   "id": "c288d54d",
   "metadata": {},
   "outputs": [],
   "source": [
    "import ssl\n",
    "import paho.mqtt.client as mqtt\n",
    "import time\n",
    "\n",
    "from config import CONFIG\n",
    "# config.py is not synced because it contains credentials to the MQTT broker, see config_sample.py for an example.\n",
    "\n",
    "CONFIG"
   ]
  },
  {
   "cell_type": "code",
   "execution_count": null,
   "id": "3196eeb0",
   "metadata": {},
   "outputs": [],
   "source": [
    "# Define the MQTT callbacks\n",
    "def on_connect(client, userdata, flags, rc):\n",
    "    if rc == 0:\n",
    "        print(\"Connected to HiveMQ Cloud\")\n",
    "        client.subscribe(CONFIG.MQTT_TOPIC)\n",
    "    else:\n",
    "        print(\"Connection failed, return code:\", rc)\n",
    "\n",
    "def on_message(client, userdata, msg):\n",
    "    print(f\"[{msg.topic}] {msg.payload.decode('utf-8')}\")\n",
    "    # Append the message with timestamp to a txt file\n",
    "\n",
    "    timestamp = time.strftime(\"%Y-%m-%d %H:%M:%S\", time.localtime())\n",
    "    record = f\"{timestamp}, {msg.payload.decode('utf-8')}\\n\"\n",
    "    with open(\"messages.txt\", \"a\") as f:\n",
    "        f.write(record)\n",
    "\n",
    "# Setup the MQTT client\n",
    "client = mqtt.Client()\n",
    "\n",
    "client.username_pw_set(CONFIG.MQTT_USER, CONFIG.MQTT_PASSWORD)\n",
    "\n",
    "client.tls_set(\n",
    "    cert_reqs=ssl.CERT_REQUIRED,\n",
    "    tls_version=ssl.PROTOCOL_TLS,\n",
    ")\n",
    "\n",
    "# Add the MQTT callbacks\n",
    "client.on_connect = on_connect\n",
    "client.on_message = on_message\n",
    "\n",
    "# Connect to the MQTT broker and start the loop\n",
    "client.connect(CONFIG.MQTT_BROKER, CONFIG.MQTT_PORT, keepalive=60)\n",
    "client.loop_forever()"
   ]
  }
 ],
 "metadata": {
  "kernelspec": {
   "display_name": ".venv",
   "language": "python",
   "name": "python3"
  },
  "language_info": {
   "codemirror_mode": {
    "name": "ipython",
    "version": 3
   },
   "file_extension": ".py",
   "mimetype": "text/x-python",
   "name": "python",
   "nbconvert_exporter": "python",
   "pygments_lexer": "ipython3",
   "version": "3.13.5"
  }
 },
 "nbformat": 4,
 "nbformat_minor": 5
}
